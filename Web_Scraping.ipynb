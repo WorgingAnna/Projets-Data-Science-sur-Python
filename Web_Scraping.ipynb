{
  "nbformat": 4,
  "nbformat_minor": 0,
  "metadata": {
    "colab": {
      "provenance": [],
      "include_colab_link": true
    },
    "kernelspec": {
      "name": "python3",
      "display_name": "Python 3"
    },
    "language_info": {
      "name": "python"
    }
  },
  "cells": [
    {
      "cell_type": "markdown",
      "metadata": {
        "id": "view-in-github",
        "colab_type": "text"
      },
      "source": [
        "<a href=\"https://colab.research.google.com/github/WorgingAnna/Projets-Data-Science-sur-Python/blob/main/Web_Scraping.ipynb\" target=\"_parent\"><img src=\"https://colab.research.google.com/assets/colab-badge.svg\" alt=\"Open In Colab\"/></a>"
      ]
    },
    {
      "cell_type": "markdown",
      "source": [
        "**Web scraping ou Data extration :** \\\n",
        "Ce code python m'a permis d'extraire plusieurs informations sur les clubs de football français.  \n",
        "\n",
        "Parmis ces informations, nous avons : les noms des présidents des clubs, leurs adresses e-mail, leurs numéros de téléphone, etc.\n",
        "\n",
        "Les informations ont été directement extraites depuis le code source du site de la FFF (Fédération Française de Foot).\n",
        "\n",
        "Ces contacts ont été extraits sous forme de fichier CSV téléchargeable."
      ],
      "metadata": {
        "id": "8_m07tRF02fs"
      }
    },
    {
      "cell_type": "code",
      "source": [
        "import requests\n",
        "from bs4 import BeautifulSoup\n",
        "import csv\n",
        "import re\n",
        "\n",
        "# Obtenir le contenu HTML de la page\n",
        "url = \"https://www.fff.fr/agents-sportifs-fff/liste-des-agents-licencies.html\"\n",
        "page = requests.get(url)\n",
        "soup = BeautifulSoup(page.text, \"html.parser\")\n",
        "\n",
        "# Créer un fichier CSV pour stocker les données\n",
        "with open(\"agents_sportifs.csv\", \"w\", newline=\"\") as csvfile:\n",
        "    writer = csv.writer(csvfile, delimiter=\",\")\n",
        "\n",
        "    # Écrire les en-têtes de colonnes dans le fichier CSV\n",
        "    headers = [\"Agent\", \"Societe\", \"Coordonnees\", \"Mail\", \"Phone\"]\n",
        "    writer.writerow(headers)\n",
        "\n",
        "    # Parcourir chaque ligne du tableau et extraire les données\n",
        "    for row in soup.find_all(\"tr\")[1:]:\n",
        "        cols = row.find_all(\"td\")\n",
        "        Agent = cols[0].get_text().strip()\n",
        "        Societe = cols[1].get_text().strip()\n",
        "        Coordonnees = cols[2].get_text().strip()\n",
        "\n",
        "        if len(cols) >= 4:\n",
        "            Contacts = cols[3].get_text().strip()\n",
        "        else:\n",
        "            Contacts = \"\"\n",
        "\n",
        "        # Rechercher les adresses e-mail dans la colonne Contacts et les stocker dans une variable\n",
        "        mails = re.findall(r'[\\w\\.-]+@[\\w\\.-]+', Contacts)\n",
        "        mail = \", \".join(mails)\n",
        "\n",
        "        # Rechercher les numéros de téléphone dans la colonne Contacts et les stocker dans une variable\n",
        "        phones = re.findall(r\"\\b\\d{3}[-.]?\\d{3}[-.]?\\d{4}\\b\", Contacts)\n",
        "        phone = \", \".join(phones)\n",
        "\n",
        "        # Écrire les données dans le fichier CSV\n",
        "        writer.writerow([Agent, Societe, Coordonnees, mail, phone])\n"
      ],
      "metadata": {
        "id": "ODTUAVClJArR"
      },
      "execution_count": null,
      "outputs": []
    },
    {
      "cell_type": "code",
      "source": [
        "import requests\n",
        "from bs4 import BeautifulSoup\n",
        "\n",
        "# Liste des URLs à extraire\n",
        "urls = ['https://www.fff.fr/competition/club/523264-paris-13-atletico/information.html']\n",
        "\n",
        "# Création d'une liste vide pour stocker les données\n",
        "data_list = []\n",
        "\n",
        "# Boucle pour extraire les informations de chaque page\n",
        "for url in urls:\n",
        "    # Récupération du contenu HTML de la page\n",
        "    response = requests.get(url)\n",
        "    html_content = response.content\n",
        "\n",
        "    # Analyse du contenu HTML avec Beautiful Soup\n",
        "    soup = BeautifulSoup(html_content, 'html.parser')\n",
        "\n",
        "    # Extraction des informations de contact\n",
        "    data = {}\n",
        "\n",
        "    contact_section = soup.find('h2', text='Le staff de PARIS 13 ATLETICO').parent\n",
        "    for p_tag in contact_section.find_all('p', {'class': ['margin_b8 bold', 'margin_b8']}):\n",
        "        # Si le tag a la classe margin_b8 bold, alors c'est une nouvelle clé\n",
        "        if p_tag.has_attr('class') and 'bold' in p_tag['class']:\n",
        "            key = p_tag.text.strip()\n",
        "            data[key] = []\n",
        "        else:\n",
        "            # Sinon c'est une valeur associée à la clé précédente\n",
        "            value = p_tag.text.strip()\n",
        "            data[key].append(value)\n",
        "\n",
        "    data_list.append(data)\n",
        "\n",
        "# Affichage des données sous forme de tableau\n",
        "for data in data_list:\n",
        "    print('-----------------------')\n",
        "    for key, value in data.items():\n",
        "        print(f'{key}: {\", \".join(value)}')\n"
      ],
      "metadata": {
        "colab": {
          "base_uri": "https://localhost:8080/"
        },
        "id": "Pl7LSBeKOYcx",
        "outputId": "f639725d-939c-42fb-c8a6-8aa979f6d93c"
      },
      "execution_count": null,
      "outputs": [
        {
          "output_type": "stream",
          "name": "stdout",
          "text": [
            "-----------------------\n",
            "CORRESPONDANT: \n",
            "ROBERT DARINI: Téléphone domicile : 01 83 89 57 74, Mobile travail : 06 22 18 00 59, Email principal : fcgobelins@lpiff.fr\n",
            "REFERENT ARBITRE: \n",
            "MUSTAPHA BEN AYED: \n",
            "REFERENT PROGRAMME EDUCATIF FEDERAL: \n",
            "IDY ANNE: \n",
            "REFERENT SECURITE: \n",
            "STEPHANE PAING: Mobile personnel : 06 29 60 40 25, Email principal : stephanepaing11@gmail.com\n",
            "REFERENT FEMININ: \n",
            "MARIE FRANCE ROPARTZ: Mobile personnel : 06 81 54 82 63\n",
            "RESPONSABLE TECHNIQUE JEUNES: \n",
            "NICOLAS DUCTEIL: Mobile personnel : 06 66 03 64 99, Email principal : nicolasfcg@outlook.fr\n",
            "RESPONSABLE TECHNIQUE ECOLE FEMININE DE FOOTBALL: \n"
          ]
        },
        {
          "output_type": "stream",
          "name": "stderr",
          "text": [
            "<ipython-input-40-5a09cfaba86e>:22: DeprecationWarning: The 'text' argument to find()-type methods is deprecated. Use 'string' instead.\n",
            "  contact_section = soup.find('h2', text='Le staff de PARIS 13 ATLETICO').parent\n"
          ]
        }
      ]
    },
    {
      "cell_type": "code",
      "source": [
        "import requests\n",
        "from bs4 import BeautifulSoup\n",
        "\n",
        "# Liste des URLs à extraire\n",
        "urls = ['https://www.fff.fr/competition/club/542440-rueil-malmaison-f-c/information.html']\n",
        "\n",
        "# Création d'une liste vide pour stocker les données\n",
        "data_list = []\n",
        "\n",
        "# Boucle pour extraire les informations de chaque page\n",
        "for url in urls:\n",
        "    # Récupération du contenu HTML de la page\n",
        "    response = requests.get(url)\n",
        "    html_content = response.content\n",
        "\n",
        "    # Analyse du contenu HTML avec Beautiful Soup\n",
        "    soup = BeautifulSoup(html_content, 'html.parser')\n",
        "\n",
        "    # Extraction des informations de contact\n",
        "    data = {}\n",
        "\n",
        "    contact_section = soup.find('h2', text='Le staff de RUEIL MALMAISON F.C.').parent\n",
        "    for p_tag in contact_section.find_all('p', {'class': ['margin_b8 bold', 'margin_b8']}):\n",
        "        # Si le tag a la classe margin_b8 bold, alors c'est une nouvelle clé\n",
        "        if p_tag.has_attr('class') and 'bold' in p_tag['class']:\n",
        "            key = p_tag.text.strip()\n",
        "            data[key] = []\n",
        "        else:\n",
        "            # Sinon c'est une valeur associée à la clé précédente\n",
        "            value = p_tag.text.strip()\n",
        "            data[key].append(value)\n",
        "\n",
        "    data_list.append(data)\n",
        "\n",
        "# Affichage des données sous forme de tableau\n",
        "for data in data_list:\n",
        "    print('-----------------------')\n",
        "    for key, value in data.items():\n",
        "        print(f'{key}: {\", \".join(value)}')\n"
      ],
      "metadata": {
        "colab": {
          "base_uri": "https://localhost:8080/"
        },
        "id": "nUObmuVa4KsC",
        "outputId": "603551c7-41c3-4d63-8b65-3d51f70bbe7f"
      },
      "execution_count": null,
      "outputs": [
        {
          "output_type": "stream",
          "name": "stdout",
          "text": [
            "-----------------------\n",
            "PRESIDENT: \n",
            "MANUEL FERREIRA MENDES: Email principal : m.ferreira@fcrm.fr, Mobile personnel : 0649434538\n",
            "CORRESPONDANT: \n",
            "ISABELLE ALEXANDRE: Mobile personnel : 0641866744, Email principal : i.alexandre@fcrm.fr\n",
            "SECRETAIRE GENERAL: \n",
            "TRESORIER: \n",
            "SEVERINE MARTIN: Email principal : s.martin@fcrm.fr, Mobile personnel : 0768325040\n",
            "DIRECTEUR TECHNIQUE: \n",
            "JULIEN POTIER: Email principal : j.potier@fcrm.fr\n",
            "VICE PRESIDENT: \n",
            "ILHAM ZAFANE: Email autre : i.zafane@fcrm.fr\n",
            "SECRETAIRE GENERAL ADJOINT: \n",
            "SIHEM HERZI: Email autre : s.herzi@fcrm.fr\n",
            "REFERENT ARBITRE: \n",
            "REFERENT PROGRAMME EDUCATIF FEDERAL: \n",
            "REFERENT SECURITE: \n",
            "MARC DELOUIS: Email principal : m.delouis@fcrm.fr\n",
            "REFERENT FEMININ: \n",
            "BAPTISTE COUSSEAU: Mobile personnel : 0769147001\n",
            "RESPONSABLE TECHNIQUE PREFORMATION (U12 - U15): \n",
            "OUMAR THIMBO: Mobile personnel : 0612912350, Email principal : oumarthimbo@gmail.com\n",
            "RESPONSABLE TECHNIQUE FORMATION (U16 - U19): \n",
            "FABRICE HORNOY: Email officiel : fabhornoy@gmail.com, Email principal : fabhornoy@gmail.com\n",
            "RESPONSABLE TECHNIQUE FOOT LOISIR: \n",
            "FREDERIC BAUERHEIM: \n",
            "SENIORS - RESPONSABLE TECHNIQUE CATEGORIE: \n",
            "U10 - U11F - RESPONSABLE TECHNIQUE CATEGORIE: \n",
            "STEPHANE BOURREAU: Email principal : s.bourreau@aol.fr, Mobile personnel : 0670512410\n",
            "U13F - EDUCATEUR D'EQUIPE: \n",
            "MARGAUX ELIES: Email principal : m.elies@fcrm.fr, Téléphone domicile : 0668551578\n",
            "SENIORS F - RESPONSABLE TECHNIQUE CATEGORIE: \n"
          ]
        },
        {
          "output_type": "stream",
          "name": "stderr",
          "text": [
            "<ipython-input-41-84154c675d73>:22: DeprecationWarning: The 'text' argument to find()-type methods is deprecated. Use 'string' instead.\n",
            "  contact_section = soup.find('h2', text='Le staff de RUEIL MALMAISON F.C.').parent\n"
          ]
        }
      ]
    },
    {
      "cell_type": "code",
      "source": [
        "import re\n",
        "import requests\n",
        "from bs4 import BeautifulSoup\n",
        "\n",
        "# Liste des URLs à extraire\n",
        "urls = ['https://www.fff.fr/competition/club/523264-paris-13-atletico/information.html', 'https://www.fff.fr/competition/club/542440-rueil-malmaison-f-c/information.html']\n",
        "\n",
        "# Création d'une liste vide pour stocker les données\n",
        "data_list = []\n",
        "\n",
        "# Expression régulière pour trouver la section de contact\n",
        "contact_regex = re.compile(r'Le staff de [A-Z0-9]+')\n",
        "\n",
        "# Boucle pour extraire les informations de chaque page\n",
        "for url in urls:\n",
        "    # Récupération du contenu HTML de la page\n",
        "    response = requests.get(url)\n",
        "    html_content = response.content\n",
        "\n",
        "    # Analyse du contenu HTML avec Beautiful Soup\n",
        "    soup = BeautifulSoup(html_content, 'html.parser')\n",
        "\n",
        "    # Extraction des informations de contact\n",
        "    data = {}\n",
        "\n",
        "    contact_section = soup.find('h2', text=contact_regex).parent\n",
        "    for p_tag in contact_section.find_all('p', {'class': ['margin_b8 bold', 'margin_b8']}):\n",
        "        # Si le tag a la classe margin_b8 bold, alors c'est une nouvelle clé\n",
        "        if p_tag.has_attr('class') and 'bold' in p_tag['class']:\n",
        "            key = p_tag.text.strip()\n",
        "            data[key] = []\n",
        "        else:\n",
        "            # Sinon c'est une valeur associée à la clé précédente\n",
        "            value = p_tag.text.strip()\n",
        "            data[key].append(value)\n",
        "\n",
        "    data_list.append(data)\n",
        "\n",
        "# Affichage des données sous forme de tableau\n",
        "for data in data_list:\n",
        "    print('-----------------------')\n",
        "    for key, value in data.items():\n",
        "        print(f'{key}: {\", \".join(value)}')\n"
      ],
      "metadata": {
        "colab": {
          "base_uri": "https://localhost:8080/"
        },
        "id": "bpuNTMZVKg0e",
        "outputId": "e68ce241-fbbe-4811-8b07-280b649feb75"
      },
      "execution_count": null,
      "outputs": [
        {
          "output_type": "stream",
          "name": "stderr",
          "text": [
            "<ipython-input-42-933b2abf15d7>:26: DeprecationWarning: The 'text' argument to find()-type methods is deprecated. Use 'string' instead.\n",
            "  contact_section = soup.find('h2', text=contact_regex).parent\n"
          ]
        },
        {
          "output_type": "stream",
          "name": "stdout",
          "text": [
            "-----------------------\n",
            "CORRESPONDANT: \n",
            "ROBERT DARINI: Téléphone domicile : 01 83 89 57 74, Mobile travail : 06 22 18 00 59, Email principal : fcgobelins@lpiff.fr\n",
            "REFERENT ARBITRE: \n",
            "MUSTAPHA BEN AYED: \n",
            "REFERENT PROGRAMME EDUCATIF FEDERAL: \n",
            "IDY ANNE: \n",
            "REFERENT SECURITE: \n",
            "STEPHANE PAING: Mobile personnel : 06 29 60 40 25, Email principal : stephanepaing11@gmail.com\n",
            "REFERENT FEMININ: \n",
            "MARIE FRANCE ROPARTZ: Mobile personnel : 06 81 54 82 63\n",
            "RESPONSABLE TECHNIQUE JEUNES: \n",
            "NICOLAS DUCTEIL: Mobile personnel : 06 66 03 64 99, Email principal : nicolasfcg@outlook.fr\n",
            "RESPONSABLE TECHNIQUE ECOLE FEMININE DE FOOTBALL: \n",
            "-----------------------\n",
            "PRESIDENT: \n",
            "MANUEL FERREIRA MENDES: Email principal : m.ferreira@fcrm.fr, Mobile personnel : 0649434538\n",
            "CORRESPONDANT: \n",
            "ISABELLE ALEXANDRE: Mobile personnel : 0641866744, Email principal : i.alexandre@fcrm.fr\n",
            "SECRETAIRE GENERAL: \n",
            "TRESORIER: \n",
            "SEVERINE MARTIN: Email principal : s.martin@fcrm.fr, Mobile personnel : 0768325040\n",
            "DIRECTEUR TECHNIQUE: \n",
            "JULIEN POTIER: Email principal : j.potier@fcrm.fr\n",
            "VICE PRESIDENT: \n",
            "ILHAM ZAFANE: Email autre : i.zafane@fcrm.fr\n",
            "SECRETAIRE GENERAL ADJOINT: \n",
            "SIHEM HERZI: Email autre : s.herzi@fcrm.fr\n",
            "REFERENT ARBITRE: \n",
            "REFERENT PROGRAMME EDUCATIF FEDERAL: \n",
            "REFERENT SECURITE: \n",
            "MARC DELOUIS: Email principal : m.delouis@fcrm.fr\n",
            "REFERENT FEMININ: \n",
            "BAPTISTE COUSSEAU: Mobile personnel : 0769147001\n",
            "RESPONSABLE TECHNIQUE PREFORMATION (U12 - U15): \n",
            "OUMAR THIMBO: Mobile personnel : 0612912350, Email principal : oumarthimbo@gmail.com\n",
            "RESPONSABLE TECHNIQUE FORMATION (U16 - U19): \n",
            "FABRICE HORNOY: Email officiel : fabhornoy@gmail.com, Email principal : fabhornoy@gmail.com\n",
            "RESPONSABLE TECHNIQUE FOOT LOISIR: \n",
            "FREDERIC BAUERHEIM: \n",
            "SENIORS - RESPONSABLE TECHNIQUE CATEGORIE: \n",
            "U10 - U11F - RESPONSABLE TECHNIQUE CATEGORIE: \n",
            "STEPHANE BOURREAU: Email principal : s.bourreau@aol.fr, Mobile personnel : 0670512410\n",
            "U13F - EDUCATEUR D'EQUIPE: \n",
            "MARGAUX ELIES: Email principal : m.elies@fcrm.fr, Téléphone domicile : 0668551578\n",
            "SENIORS F - RESPONSABLE TECHNIQUE CATEGORIE: \n"
          ]
        }
      ]
    },
    {
      "cell_type": "code",
      "source": [
        "# @title\n",
        "import csv\n",
        "import re\n",
        "import requests\n",
        "from bs4 import BeautifulSoup\n",
        "\n",
        "# Liste des URLs à extraire\n",
        "urls = ['https://www.fff.fr/competition/club/523264-paris-13-atletico/information.html', 'https://www.fff.fr/competition/club/542440-rueil-malmaison-f-c/information.html']\n",
        "\n",
        "# Création d'un dictionnaire vide pour stocker les données\n",
        "data_dict = {}\n",
        "\n",
        "# Expression régulière pour trouver la section de contact\n",
        "contact_regex = re.compile(r'Le staff de [A-Z0-9]+')\n",
        "\n",
        "# Boucle pour extraire les informations de chaque page\n",
        "for url in urls:\n",
        "    # Récupération du contenu HTML de la page\n",
        "    response = requests.get(url)\n",
        "    html_content = response.content\n",
        "\n",
        "    # Analyse du contenu HTML avec Beautiful Soup\n",
        "    soup = BeautifulSoup(html_content, 'html.parser')\n",
        "\n",
        "    # Extraction des informations de contact\n",
        "    contact_section = soup.find('h2', text=contact_regex).parent\n",
        "    for p_tag in contact_section.find_all('p', {'class': ['margin_b8 bold', 'margin_b8']}):\n",
        "        # Si le tag a la classe margin_b8 bold, alors c'est une nouvelle clé\n",
        "        if p_tag.has_attr('class') and 'bold' in p_tag['class']:\n",
        "            key = p_tag.text.strip()\n",
        "            data_dict[key] = {'prenom': '', 'nom': '', 'email': '', 'telephone': '', 'mobile': ''}\n",
        "        else:\n",
        "            # Sinon c'est une valeur associée à la clé précédente\n",
        "            value = p_tag.text.strip()\n",
        "            if 'Email principal' in value:\n",
        "                data_dict[key]['email'] = value.split(': ')[1]\n",
        "            elif 'Téléphone domicile' in value:\n",
        "                data_dict[key]['telephone'] = value.split(': ')[1]\n",
        "            elif 'Mobile travail' in value:\n",
        "                data_dict[key]['mobile'] = value.split(': ')[1]\n",
        "\n",
        "            # Récupération du nom et prénom dans la clé\n",
        "            if ': ' in key:\n",
        "                nom_prenom = key.split(': ')[1]\n",
        "                data_dict[key]['prenom'] = nom_prenom.split()[0]\n",
        "                data_dict[key]['nom'] = nom_prenom.split()[1]\n",
        "            else:\n",
        "                data_dict[key]['prenom'] = key.split()[0]\n",
        "                data_dict[key]['nom'] = ' '.join(key.split()[1:])\n",
        "\n",
        "# Création d'un fichier CSV et écriture des données\n",
        "with open('contacts.csv', mode='w', newline='') as csv_file:\n",
        "    fieldnames = ['Prenom Nom', 'Email principal', 'Telephone domicile', 'Mobile travail']\n",
        "    writer = csv.DictWriter(csv_file, fieldnames=fieldnames)\n",
        "\n",
        "    writer.writeheader()\n",
        "    for key, value in data_dict.items():\n",
        "        if any(value.values()):\n",
        "            prenom_nom = value['prenom'] + ' ' + value['nom']\n",
        "            writer.writerow({'Prenom Nom': prenom_nom, 'Email principal': value['email'], 'Telephone domicile': value['telephone'], 'Mobile travail': value['mobile']})\n"
      ],
      "metadata": {
        "id": "ziHn0m7JsRUA",
        "colab": {
          "base_uri": "https://localhost:8080/"
        },
        "outputId": "08036e7f-7846-4de4-d6c2-416ae0066d00"
      },
      "execution_count": null,
      "outputs": [
        {
          "output_type": "stream",
          "name": "stderr",
          "text": [
            "<ipython-input-43-eeaf6b7904c4>:26: DeprecationWarning: The 'text' argument to find()-type methods is deprecated. Use 'string' instead.\n",
            "  contact_section = soup.find('h2', text=contact_regex).parent\n"
          ]
        }
      ]
    },
    {
      "cell_type": "markdown",
      "source": [
        "**Ci dessous un code qui renvoie toutes les informations  (prenoms + professions:)**"
      ],
      "metadata": {
        "id": "GgoFV6Ud9fiB"
      }
    },
    {
      "cell_type": "code",
      "source": [
        "# @title\n",
        "import csv\n",
        "import re\n",
        "import requests\n",
        "from bs4 import BeautifulSoup\n",
        "import pandas as pd\n",
        "\n",
        "urls = [\n",
        "    'https://www.fff.fr/competition/club/523264-paris-13-atletico/information.html',\n",
        "    'https://www.fff.fr/competition/club/542440-rueil-malmaison-f-c/information.html',\n",
        "    'https://www.fff.fr/competition/club/502858-houilles-a-c/information.html',\n",
        "    'https://www.fff.fr/competition/club/500695-sarcelles-a-a-s/information.html',\n",
        "    'https://www.fff.fr/competition/club/500689-creteil-lusitanos-f-us/information.html',\n",
        "    'https://www.fff.fr/competition/club/505605-f-c-lyon-football/information.html',\n",
        "    'https://www.fff.fr/competition/club/523259-jeanne-d-arc-drancy/information.html',\n",
        "    'https://www.fff.fr/competition/club/546466-petits-anges-paris-ent-sportive/information.html',\n",
        "    'https://www.fff.fr/competition/club/500138-vincennois-c-o/information.html',\n",
        "    'https://www.fff.fr/competition/club/500051-boulogne-billancourt-ac/information.html',\n",
        "    'https://www.fff.fr/competition/club/508864-trappes-etoile-sportive/information.html',\n",
        "    'https://www.fff.fr/competition/club/500650-versailles-78-f-c/information.html',\n",
        "    'https://www.fff.fr/competition/club/524861-fleury-91-f-c/information.html',\n",
        "    'https://www.fff.fr/competition/club/542388-maisons-alfort-f-c/information.html',\n",
        "    'https://www.fff.fr/competition/club/517328-sannois-st-gratien-ent/information.html',\n",
        "    'https://www.fff.fr/competition/club/525523-seizieme-e-s/information.html',\n",
        "    'https://www.fff.fr/competition/club/551988-cergy-pontoise-f-c/information.html',\n",
        "    'https://www.fff.fr/competition/club/548635-montfermeil-f-c/information.html',\n",
        "    'https://www.fff.fr/competition/club/500025-paris-universite-club/information.html',\n",
        "    'https://www.fff.fr/competition/club/563603-evry-f-c/information.html',\n",
        "]\n",
        "\n",
        "contact_regex = re.compile(r'Le staff de [A-Z0-9]+')\n",
        "\n",
        "data_list = []\n",
        "\n",
        "club_name_regex = re.compile(r'\\d+-(.+?)/information\\.html')\n",
        "\n",
        "for url in urls:\n",
        "    response = requests.get(url)\n",
        "    html_content = response.content\n",
        "    soup = BeautifulSoup(html_content, 'html.parser')\n",
        "\n",
        "    club_name = club_name_regex.search(url).group(1).replace('-', ' ')\n",
        "\n",
        "    contact_section = soup.find('h2', string=contact_regex).parent\n",
        "\n",
        "    for p_tag in contact_section.find_all('p', {'class': ['margin_b8 bold', 'margin_b8']}):\n",
        "        if p_tag.has_attr('class') and 'bold' in p_tag['class']:\n",
        "            key = p_tag.text.strip()\n",
        "\n",
        "            if ': ' in key:\n",
        "                profession, nom_prenom = key.split(': ')\n",
        "            else:\n",
        "                profession = ''\n",
        "                nom_prenom = key\n",
        "\n",
        "            contact_data = {'club_name': club_name, 'profession': profession, 'prenom_nom': nom_prenom, 'email': '', 'telephone_domicile': '', 'mobile_travail': ''}\n",
        "        else:\n",
        "            value = p_tag.text.strip()\n",
        "            if 'Email principal' in value:\n",
        "                contact_data['email'] = value.split(': ')[1]\n",
        "            elif 'Téléphone domicile' in value:\n",
        "                contact_data['telephone_domicile'] = value.split(': ')[1]\n",
        "            elif 'Mobile travail' in value or 'Mobile personnel' in value:\n",
        "                contact_data['mobile_travail'] = value.split(': ')[1]\n",
        "\n",
        "        data_list.append(contact_data)\n",
        "\n",
        "# Utiliser pandas pour supprimer les doublons\n",
        "data_df = pd.DataFrame(data_list)\n",
        "data_df = data_df.drop_duplicates()\n",
        "\n",
        "# Enregistrer le DataFrame sans doublons dans un fichier CSV\n",
        "data_df.to_csv('contacts.csv', index=False)"
      ],
      "metadata": {
        "id": "z69uFlBQlQKW"
      },
      "execution_count": null,
      "outputs": []
    },
    {
      "cell_type": "markdown",
      "source": [
        "Ci dessous; un code qui ne renvoie pas la colonne profession"
      ],
      "metadata": {
        "id": "YB1tyHRf9qun"
      }
    },
    {
      "cell_type": "code",
      "source": [
        "import csv\n",
        "import re\n",
        "import requests\n",
        "from bs4 import BeautifulSoup\n",
        "\n",
        "urls = ['https://www.fff.fr/competition/club/523264-paris-13-atletico/information.html', 'https://www.fff.fr/competition/club/542440-rueil-malmaison-f-c/information.html']\n",
        "\n",
        "data_list = []\n",
        "\n",
        "contact_regex = re.compile(r'Le staff de [A-Z0-9]+')\n",
        "\n",
        "for url in urls:\n",
        "    response = requests.get(url)\n",
        "    html_content = response.content\n",
        "    soup = BeautifulSoup(html_content, 'html.parser')\n",
        "    contact_section = soup.find('h2', text=contact_regex).parent\n",
        "\n",
        "    for p_tag in contact_section.find_all('p', {'class': ['margin_b8 bold', 'margin_b8']}):\n",
        "        if p_tag.has_attr('class') and 'bold' in p_tag['class']:\n",
        "            key = p_tag.text.strip()\n",
        "\n",
        "            if ': ' in key:\n",
        "                profession, nom_prenom = key.split(': ')\n",
        "            else:\n",
        "                profession = ''\n",
        "                nom_prenom = key\n",
        "\n",
        "            prenom = nom_prenom.split()[0]\n",
        "            nom = ' '.join(nom_prenom.split()[1:])\n",
        "            data = {'profession': profession, 'prenom': prenom, 'nom': nom, 'email': '', 'telephone': '', 'mobile': ''}\n",
        "        else:\n",
        "            value = p_tag.text.strip()\n",
        "            if 'Email principal' in value:\n",
        "                data['email'] = value.split(': ')[1]\n",
        "            elif 'Téléphone domicile' in value:\n",
        "                data['telephone'] = value.split(': ')[1]\n",
        "            elif 'Mobile travail' in value or 'Mobile personnel' in value:\n",
        "                data['mobile'] = value.split(': ')[1]\n",
        "\n",
        "            data_list.append(data)\n",
        "\n",
        "with open('contacts.csv', mode='w', newline='') as csv_file:\n",
        "    fieldnames = ['Profession', 'Prenom', 'Nom', 'Email', 'Telephone', 'Mobile']\n",
        "    writer = csv.DictWriter(csv_file, fieldnames=fieldnames)\n",
        "\n",
        "    writer.writeheader()\n",
        "    for data in data_list:\n",
        "        if any(data.values()):\n",
        "            writer.writerow({'Profession': data['profession'], 'Prenom': data['prenom'], 'Nom': data['nom'], 'Email': data['email'], 'Telephone': data['telephone'], 'Mobile': data['mobile']})\n"
      ],
      "metadata": {
        "id": "DR9Yxk0O4U-k",
        "colab": {
          "base_uri": "https://localhost:8080/"
        },
        "outputId": "ef754ff4-f0c0-434b-b2c5-5da8969ee4b3"
      },
      "execution_count": null,
      "outputs": [
        {
          "output_type": "stream",
          "name": "stderr",
          "text": [
            "<ipython-input-45-aaf3fa1bf768>:16: DeprecationWarning: The 'text' argument to find()-type methods is deprecated. Use 'string' instead.\n",
            "  contact_section = soup.find('h2', text=contact_regex).parent\n"
          ]
        }
      ]
    }
  ]
}